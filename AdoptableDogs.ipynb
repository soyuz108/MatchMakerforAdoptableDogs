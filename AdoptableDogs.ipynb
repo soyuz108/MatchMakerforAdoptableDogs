{
 "cells": [
  {
   "cell_type": "markdown",
   "metadata": {},
   "source": [
    "### Data to the Rescue\n",
    "FetchMaker’s mission is to match up prospective dog owners with their perfect pet. They have been collecting data on their adoptable dogs, and our goal is to analyze some of that datat to get some valuable insights.\n",
    "\n",
    "\n",
    "FetchMaker has provided us with data for a sample of dogs from their app, including the following attributes:\n",
    "- `weight`, an integer representing how heavy a dog is in pounds\n",
    "- `tail_length`, a float representing tail length in inches\n",
    "- `age`, in years\n",
    "- `color`, a String such as \"brown\" or \"grey\"\n",
    "- `is_rescue`, a boolean 0 or 1"
   ]
  },
  {
   "cell_type": "code",
   "execution_count": 2,
   "metadata": {},
   "outputs": [
    {
     "name": "stdout",
     "output_type": "stream",
     "text": [
      "   is_rescue  weight  tail_length  age  color  likes_children  \\\n",
      "0          0       6         2.25    2  black               1   \n",
      "1          0       4         5.36    4  black               0   \n",
      "2          0       7         3.63    3  black               0   \n",
      "3          0       5         0.19    2  black               0   \n",
      "4          0       5         0.37    1  black               1   \n",
      "\n",
      "   is_hypoallergenic      name      breed  \n",
      "0                  0      Huey  chihuahua  \n",
      "1                  0   Cherish  chihuahua  \n",
      "2                  1     Becka  chihuahua  \n",
      "3                  0     Addie  chihuahua  \n",
      "4                  1  Beverlee  chihuahua  \n"
     ]
    }
   ],
   "source": [
    "# Import libraries\n",
    "import pandas as pd\n",
    "import numpy as np\n",
    "\n",
    "# Load the data and print a sample\n",
    "dogs = pd.read_csv(\"dog_data.csv\")\n",
    "print(dogs.head())"
   ]
  }
 ],
 "metadata": {
  "kernelspec": {
   "display_name": "Python 3.9.12 ('base')",
   "language": "python",
   "name": "python3"
  },
  "language_info": {
   "codemirror_mode": {
    "name": "ipython",
    "version": 3
   },
   "file_extension": ".py",
   "mimetype": "text/x-python",
   "name": "python",
   "nbconvert_exporter": "python",
   "pygments_lexer": "ipython3",
   "version": "3.9.12"
  },
  "orig_nbformat": 4,
  "vscode": {
   "interpreter": {
    "hash": "bad3e0717367b3cff4aae9c6c5645f8f35fe4ca9a016dd7720b001d80364b124"
   }
  }
 },
 "nbformat": 4,
 "nbformat_minor": 2
}
