{
 "cells": [
  {
   "cell_type": "markdown",
   "metadata": {},
   "source": [
    "### Data to the Rescue\n",
    "FetchMaker’s mission is to match up prospective dog owners with their perfect pet. They have been collecting data on their adoptable dogs, and our goal is to analyze some of that datat to get some valuable insights.\n",
    "\n",
    "\n",
    "FetchMaker has provided us with data for a sample of dogs from their app, including the following attributes:\n",
    "- `weight`, an integer representing how heavy a dog is in pounds\n",
    "- `tail_length`, a float representing tail length in inches\n",
    "- `age`, in years\n",
    "- `color`, a String such as \"brown\" or \"grey\"\n",
    "- `is_rescue`, a boolean 0 or 1"
   ]
  },
  {
   "cell_type": "code",
   "execution_count": 22,
   "metadata": {},
   "outputs": [
    {
     "name": "stdout",
     "output_type": "stream",
     "text": [
      "   is_rescue  weight  tail_length  age  color  likes_children  \\\n",
      "0          0       6         2.25    2  black               1   \n",
      "1          0       4         5.36    4  black               0   \n",
      "2          0       7         3.63    3  black               0   \n",
      "3          0       5         0.19    2  black               0   \n",
      "4          0       5         0.37    1  black               1   \n",
      "\n",
      "   is_hypoallergenic      name      breed  \n",
      "0                  0      Huey  chihuahua  \n",
      "1                  0   Cherish  chihuahua  \n",
      "2                  1     Becka  chihuahua  \n",
      "3                  0     Addie  chihuahua  \n",
      "4                  1  Beverlee  chihuahua  \n"
     ]
    }
   ],
   "source": [
    "# Import libraries\n",
    "import pandas as pd\n",
    "import numpy as np\n",
    "\n",
    "from scipy.stats import binom_test\n",
    "from scipy.stats import f_oneway\n",
    "from statsmodels.stats.multicomp import pairwise_tukeyhsd\n",
    "from scipy.stats import chi2_contingency\n",
    "\n",
    "# Load the data and print a sample\n",
    "dogs = pd.read_csv(\"dog_data.csv\")\n",
    "print(dogs.head())"
   ]
  },
  {
   "cell_type": "markdown",
   "metadata": {},
   "source": [
    "FetchMaker estimates (based on historical data for all dogs) that 8% of dogs in their system are rescues. They would like to know if whippets are significantly more or less likely than other dogs to be a rescue."
   ]
  },
  {
   "cell_type": "code",
   "execution_count": 14,
   "metadata": {},
   "outputs": [
    {
     "name": "stdout",
     "output_type": "stream",
     "text": [
      "6\n",
      "100\n"
     ]
    }
   ],
   "source": [
    "# Save 'is_rescue' for whippets\n",
    "whippet_rescue = dogs.is_rescue[dogs.breed == \"whippet\"]\n",
    "\n",
    "# Count the number of 'rescues' and print the result\n",
    "num_whippet_rescues = np.sum(whippet_rescue == 1)\n",
    "print(num_whippet_rescues)\n",
    "\n",
    "# Count the number of whippets in total\n",
    "num_whippets = len(whippet_rescue)\n",
    "# Print the result\n",
    "print(num_whippets)"
   ]
  },
  {
   "cell_type": "markdown",
   "metadata": {},
   "source": [
    "Now we use a hypothesis test to test the following null and alternative hypotheses:\n",
    "- null: 8% of whippets are rescues\n",
    "- alternative: more or less than 8% of whippets are rescues\n",
    "\n",
    "For this test, we are focused on a single binary categorical variable, which indicates whether or not each whippet is a rescue. We want to compare the number of rescues in our sample to a hypothetical population-level proportion of 0.08. Therefore, we should use a binomial test."
   ]
  },
  {
   "cell_type": "code",
   "execution_count": 15,
   "metadata": {},
   "outputs": [
    {
     "name": "stdout",
     "output_type": "stream",
     "text": [
      "0.5811780106238107\n"
     ]
    }
   ],
   "source": [
    "# Run a binomial test \n",
    "pval = binom_test(num_whippet_rescues, num_whippets, .08)\n",
    "# Print the result\n",
    "print(pval)"
   ]
  },
  {
   "cell_type": "markdown",
   "metadata": {},
   "source": [
    "Using a significance threshold of 0.05, we can conclude that the proportion of whippets who are rescues is NOT significantly different from 8%.\n",
    "\n",
    "### Mid-Sized Dog Weights\n",
    "Three of FetchMaker’s most popular mid-sized dog breeds are 'whippet's, 'terrier's, and 'pitbull's. We'd like to see if there a significant difference in the average weights of these three dog breeds."
   ]
  },
  {
   "cell_type": "code",
   "execution_count": 16,
   "metadata": {},
   "outputs": [],
   "source": [
    "# Save the weight of whippets\n",
    "wt_whippets = dogs.weight[dogs.breed == \"whippet\"]\n",
    "# Save the weight of terriers\n",
    "wt_terriers = dogs.weight[dogs.breed == \"terrier\"]\n",
    "# Save the weight of pitbulls\n",
    "wt_pitbulls = dogs.weight[dogs.breed == \"pitbull\"]"
   ]
  },
  {
   "cell_type": "markdown",
   "metadata": {},
   "source": [
    "Now we want to run a single hypothesis test to address the following null and alternative hypotheses:\n",
    "- null: whippets, terriers, and pitbulls all weigh the same amount on average\n",
    "- alternative: whippets, terriers, and pitbulls do not all weigh the same amount on average (at least one pair of breeds has differing average weights)\n",
    "\n",
    "This test addresses an association between two variables: a non-binary categorical variable (breed, with three possible options) and a quantitative variable (weight). It is not a good idea to run three separate two-sample t-tests here, because running multiple t-tests increases our chances of a type I error, or a false positive. \n",
    "\n",
    "In order to run a single hypothesis test with three categories, we should use an ANOVA."
   ]
  },
  {
   "cell_type": "code",
   "execution_count": 18,
   "metadata": {},
   "outputs": [
    {
     "name": "stdout",
     "output_type": "stream",
     "text": [
      "3.276415588274815e-17\n"
     ]
    }
   ],
   "source": [
    "# Run ANOVA test\n",
    "fstat, pval = f_oneway(wt_whippets, wt_terriers, wt_pitbulls)\n",
    "# Print the result\n",
    "print(pval)"
   ]
  },
  {
   "cell_type": "markdown",
   "metadata": {},
   "source": [
    "Using a significance threshold of 0.05, we can conclude that there is at least one pair of dog breeds that have significantly different average weights. \n",
    "\n",
    "We'll run another hypothesis test to determine which of those breeds (whippets, terriers, and pitbulls) weigh different amounts on average using an overall type I error rate of 0.05 for all three comparisons. \n",
    "\n",
    "For this case, we need Tukey’s range test. The inputs to this function are our two variables of interest: the weights and breeds of the dogs. "
   ]
  },
  {
   "cell_type": "code",
   "execution_count": 20,
   "metadata": {},
   "outputs": [
    {
     "name": "stdout",
     "output_type": "stream",
     "text": [
      "  Multiple Comparison of Means - Tukey HSD, FWER=0.05  \n",
      "=======================================================\n",
      " group1  group2 meandiff p-adj   lower    upper  reject\n",
      "-------------------------------------------------------\n",
      "pitbull terrier   -13.24   -0.0 -16.7278 -9.7522   True\n",
      "pitbull whippet    -3.34 0.0638  -6.8278  0.1478  False\n",
      "terrier whippet      9.9    0.0   6.4122 13.3878   True\n",
      "-------------------------------------------------------\n"
     ]
    }
   ],
   "source": [
    "# Subset to just whippets, terriers, and pitbulls\n",
    "dogs_wtp = dogs[dogs.breed.isin([\"whippet\", \"terrier\", \"pitbull\"])]\n",
    "\n",
    "# Run Turkey's range test and print the result\n",
    "output = pairwise_tukeyhsd(dogs_wtp.weight, dogs_wtp.breed)\n",
    "print(output)"
   ]
  },
  {
   "cell_type": "markdown",
   "metadata": {},
   "source": [
    "For any pair where “Reject” is “True”, we conclude that those two breeds weigh significantly different amounts.\n",
    "\n",
    "### Poodle and Shihtzu Colors\n",
    "FetchMaker wants to know if 'poodle's and 'shihtzu's come in different colors. To start, we'll subset the data and use it to create a contingency table of dog colors by breed (poodle vs. shihtzu). "
   ]
  },
  {
   "cell_type": "code",
   "execution_count": 25,
   "metadata": {},
   "outputs": [
    {
     "name": "stdout",
     "output_type": "stream",
     "text": [
      "breed  poodle  shihtzu\n",
      "color                 \n",
      "black      17       10\n",
      "brown      13       36\n",
      "gold        8        6\n",
      "grey       52       41\n",
      "white      10        7\n"
     ]
    }
   ],
   "source": [
    "# Subset to just poodles and shihtzus\n",
    "dogs_ps = dogs[dogs.breed.isin([\"poodle\", \"shihtzu\"])]\n",
    "\n",
    "# Create a contingency table of color vs. breed\n",
    "Xtab = pd.crosstab(dogs_ps.color, dogs_ps.breed)\n",
    "print(Xtab)"
   ]
  },
  {
   "cell_type": "markdown",
   "metadata": {},
   "source": [
    "Now we want to run a hypothesis test for the following null and alternative hypotheses:\n",
    "- null: There is an association between breed (poodle vs. shihtzu) and color\n",
    "- alternative: There is not an association between breed (poodle vs. shihtzu) and color\n",
    "\n",
    "This case investigates an association between two categorical variables, so we can use a Chi-Square test."
   ]
  },
  {
   "cell_type": "code",
   "execution_count": 24,
   "metadata": {},
   "outputs": [
    {
     "name": "stdout",
     "output_type": "stream",
     "text": [
      "0.005302408293244593\n"
     ]
    }
   ],
   "source": [
    "# Run Chi-Square Test\n",
    "chi2, pval, dof, exp = chi2_contingency(Xtab)\n",
    "# Print the result\n",
    "print(pval)"
   ]
  },
  {
   "cell_type": "markdown",
   "metadata": {},
   "source": [
    "Using a significance threshold of 0.05, we can conclude that poodles and shihtzus come in significantly different color combinations."
   ]
  }
 ],
 "metadata": {
  "kernelspec": {
   "display_name": "Python 3.9.12 ('base')",
   "language": "python",
   "name": "python3"
  },
  "language_info": {
   "codemirror_mode": {
    "name": "ipython",
    "version": 3
   },
   "file_extension": ".py",
   "mimetype": "text/x-python",
   "name": "python",
   "nbconvert_exporter": "python",
   "pygments_lexer": "ipython3",
   "version": "3.9.12"
  },
  "orig_nbformat": 4,
  "vscode": {
   "interpreter": {
    "hash": "bad3e0717367b3cff4aae9c6c5645f8f35fe4ca9a016dd7720b001d80364b124"
   }
  }
 },
 "nbformat": 4,
 "nbformat_minor": 2
}
